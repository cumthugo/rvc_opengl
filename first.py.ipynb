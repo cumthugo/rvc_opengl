{
 "cells": [
  {
   "cell_type": "code",
   "execution_count": null,
   "metadata": {},
   "outputs": [],
   "source": [
    "from OpenGL.GL import *\n",
    "from OpenGL.GLUT import *\n",
    "\n",
    "def draw():\n",
    "    glBegin(GL_LINES)\n",
    "    \n",
    "    # 以红色绘制x轴\n",
    "    glColor4f(1.0, 0.0, 0.0, 1.0)        # 设置当前颜色为红色不透明\n",
    "    glVertex3f(-0.8, 0.0, 0.0)           # 设置x轴顶点（x轴负方向）\n",
    "    glVertex3f(0.8, 0.0, 0.0)            # 设置x轴顶点（x轴正方向）\n",
    "    \n",
    "    # 以绿色绘制y轴\n",
    "    glColor4f(0.0, 1.0, 0.0, 1.0)        # 设置当前颜色为绿色不透明\n",
    "    glVertex3f(0.0, -0.8, 0.0)           # 设置y轴顶点（y轴负方向）\n",
    "    glVertex3f(0.0, 0.8, 0.0)            # 设置y轴顶点（y轴正方向）\n",
    "    \n",
    "    # 以蓝色绘制z轴\n",
    "    glColor4f(0.0, 0.0, 1.0, 1.0)        # 设置当前颜色为蓝色不透明\n",
    "    glVertex3f(0.0, 0.0, -0.8)           # 设置z轴顶点（z轴负方向）\n",
    "    glVertex3f(0.0, 0.0, 0.8)            # 设置z轴顶点（z轴正方向）\n",
    "    \n",
    "    glEnd()                              # 结束绘制线段\n",
    "    \n",
    "    # ---------------------------------------------------------------\n",
    "    glBegin(GL_TRIANGLES)                # 开始绘制三角形（z轴负半区）\n",
    "    \n",
    "    glColor4f(1.0, 0.0, 0.0, 1.0)        # 设置当前颜色为红色不透明\n",
    "    glVertex3f(-0.5, -0.366, -0.5)       # 设置三角形顶点\n",
    "    glColor4f(0.0, 1.0, 0.0, 1.0)        # 设置当前颜色为绿色不透明\n",
    "    glVertex3f(0.5, -0.366, -0.5)        # 设置三角形顶点\n",
    "    glColor4f(0.0, 0.0, 1.0, 1.0)        # 设置当前颜色为蓝色不透明\n",
    "    glVertex3f(0.0, 0.5, -0.5)           # 设置三角形顶点\n",
    "    \n",
    "    glEnd()                              # 结束绘制三角形\n",
    "    \n",
    "    # ---------------------------------------------------------------\n",
    "    glFlush()                            # 清空缓冲区，将指令送往硬件立即执行\n",
    "\n",
    "if __name__ == \"__main__\":\n",
    "    glutInit()                           # 1. 初始化glut库\n",
    "    glutCreateWindow('Quidam Of OpenGL') # 2. 创建glut窗口\n",
    "    glutDisplayFunc(draw)                # 3. 注册回调函数draw()\n",
    "    glutMainLoop()                       # 4. 进入glut主循环"
   ]
  },
  {
   "cell_type": "code",
   "execution_count": null,
   "metadata": {},
   "outputs": [],
   "source": []
  },
  {
   "cell_type": "code",
   "execution_count": null,
   "metadata": {},
   "outputs": [],
   "source": []
  }
 ],
 "metadata": {
  "kernelspec": {
   "display_name": "Python 3",
   "language": "python",
   "name": "python3"
  },
  "language_info": {
   "codemirror_mode": {
    "name": "ipython",
    "version": 3
   },
   "file_extension": ".py",
   "mimetype": "text/x-python",
   "name": "python",
   "nbconvert_exporter": "python",
   "pygments_lexer": "ipython3",
   "version": "3.6.9"
  }
 },
 "nbformat": 4,
 "nbformat_minor": 4
}
